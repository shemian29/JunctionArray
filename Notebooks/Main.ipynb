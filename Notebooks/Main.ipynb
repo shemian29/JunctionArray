{
 "cells": [
  {
   "cell_type": "markdown",
   "id": "3996a115-821e-47a4-a1c2-7b4a10b5826e",
   "metadata": {},
   "source": [
    "# New regimes of Josephson junction arrays"
   ]
  },
  {
   "cell_type": "code",
   "execution_count": 5,
   "id": "be525609-57a7-4921-b56c-a80cef880c2e",
   "metadata": {
    "pycharm": {
     "is_executing": true
    }
   },
   "outputs": [],
   "source": [
    "import JJArray as jja\n",
    "import numpy as np\n",
    "import qutip as qt\n",
    "import matplotlib.pyplot as plt\n",
    "from scipy.sparse import bmat\n",
    "from tqdm.notebook import tqdm"
   ]
  },
  {
   "cell_type": "markdown",
   "id": "f0558031-c42f-43fb-a248-b5d682083ecb",
   "metadata": {},
   "source": [
    "# Full Hamiltonian"
   ]
  },
  {
   "cell_type": "code",
   "execution_count": 72,
   "id": "ae19ed05-a2e5-4484-8163-105907146e4f",
   "metadata": {},
   "outputs": [],
   "source": [
    "N = 4\n",
    "MuliCharge_ncut = 3*N\n",
    "Ncut = int(MuliCharge_ncut/N)\n",
    "\n",
    "EC = np.array([0.1,1,1,0.1])#np.full((N), 2.5)\n",
    "EJ = np.full((N), 0.1)\n",
    "EJb = 10\n",
    "ECb = 2.5\n",
    "phi = 0.\n",
    "\n",
    "H = jja.H_array(phi, N , Ncut, EJ, EC, EJb, ECb)"
   ]
  },
  {
   "cell_type": "markdown",
   "id": "9869cd97-ddf2-44cd-9fbe-52ed5dd24035",
   "metadata": {},
   "source": [
    "# Setup of the system by symmetry sectors"
   ]
  },
  {
   "cell_type": "markdown",
   "id": "76eefec6-69b6-4c39-9af7-667a9948b7d6",
   "metadata": {},
   "source": [
    "Generate unitary transformations for each symmetry sector"
   ]
  },
  {
   "cell_type": "code",
   "execution_count": 73,
   "id": "a16885e3-804a-4a41-9cec-98b28a708d08",
   "metadata": {},
   "outputs": [
    {
     "name": "stdout",
     "output_type": "stream",
     "text": [
      "Full Hilbert space dimension =  2401\n"
     ]
    },
    {
     "data": {
      "application/vnd.jupyter.widget-view+json": {
       "model_id": "a8e7a6f7e3f24e62ac872a9f093c07d0",
       "version_major": 2,
       "version_minor": 0
      },
      "text/plain": [
       "  0%|          | 0/4 [00:00<?, ?it/s]"
      ]
     },
     "metadata": {},
     "output_type": "display_data"
    },
    {
     "data": {
      "application/vnd.jupyter.widget-view+json": {
       "model_id": "17a8eb092e1043af91bc4219decc05ea",
       "version_major": 2,
       "version_minor": 0
      },
      "text/plain": [
       "  0%|          | 0/616 [00:00<?, ?it/s]"
      ]
     },
     "metadata": {},
     "output_type": "display_data"
    },
    {
     "name": "stdout",
     "output_type": "stream",
     "text": [
      "Sector 0= 616\n"
     ]
    },
    {
     "data": {
      "application/vnd.jupyter.widget-view+json": {
       "model_id": "f89ccc96a7044115beeea17d06a5e0b9",
       "version_major": 2,
       "version_minor": 0
      },
      "text/plain": [
       "  0%|          | 0/616 [00:00<?, ?it/s]"
      ]
     },
     "metadata": {},
     "output_type": "display_data"
    },
    {
     "name": "stdout",
     "output_type": "stream",
     "text": [
      "Sector 1= 588\n"
     ]
    },
    {
     "data": {
      "application/vnd.jupyter.widget-view+json": {
       "model_id": "d2d01ebcb3ba4b95810b65e457674d46",
       "version_major": 2,
       "version_minor": 0
      },
      "text/plain": [
       "  0%|          | 0/616 [00:00<?, ?it/s]"
      ]
     },
     "metadata": {},
     "output_type": "display_data"
    },
    {
     "name": "stdout",
     "output_type": "stream",
     "text": [
      "Sector 2= 609\n"
     ]
    },
    {
     "data": {
      "application/vnd.jupyter.widget-view+json": {
       "model_id": "c8674200e98646599a6d1a462e19649c",
       "version_major": 2,
       "version_minor": 0
      },
      "text/plain": [
       "  0%|          | 0/616 [00:00<?, ?it/s]"
      ]
     },
     "metadata": {},
     "output_type": "display_data"
    },
    {
     "name": "stdout",
     "output_type": "stream",
     "text": [
      "Sector 3= 588\n",
      "Sum of sector dimensions =  2401\n",
      "CPU times: user 196 ms, sys: 24 ms, total: 220 ms\n",
      "Wall time: 200 ms\n"
     ]
    }
   ],
   "source": [
    "%time V = jja.ChargeToTranslation(N,Ncut)"
   ]
  },
  {
   "cell_type": "code",
   "execution_count": 74,
   "id": "bf0851e2-74f5-4b1c-92f7-82cf51709259",
   "metadata": {
    "tags": []
   },
   "outputs": [
    {
     "data": {
      "application/vnd.jupyter.widget-view+json": {
       "model_id": "6594741c88d14b64a854c3e0e9166172",
       "version_major": 2,
       "version_minor": 0
      },
      "text/plain": [
       "  0%|          | 0/20 [00:00<?, ?it/s]"
      ]
     },
     "metadata": {},
     "output_type": "display_data"
    },
    {
     "data": {
      "image/png": "[encoded data removed]",
      "text/plain": [
       "<Figure size 640x480 with 1 Axes>"
      ]
     },
     "metadata": {},
     "output_type": "display_data"
    }
   ],
   "source": [
    "ph_list = np.linspace(0,1,20)\n",
    "\n",
    "scan = {}\n",
    "[scan.update({k:[]}) for k in range(N)]\n",
    "\n",
    "for ph in tqdm(ph_list):\n",
    "    \n",
    "    H = jja.H_array(ph, N , Ncut, EJ, EC, EJb, ECb)\n",
    "    evals, evecs, symmetric_data = jja.SortedDiagonalization(H,V,10)\n",
    "    [scan[k].append(symmetric_data[k][0]-symmetric_data[0][0][0]) for k in range(N)] \n",
    "    # plt.imshow([[ME(symmetric_data[0][1][i],jja.Op(CosPhi,N,0),symmetric_data[1][1][j]) for i in range(10)] for j in range(10)])\n",
    "    # plt.show()\n",
    "    \n",
    "    \n",
    "    bs = jja.cartesian([np.arange(-Ncut,Ncut+1) for r in range(N)])\n",
    "    chrgs = np.array([np.sum(bs[r]) for r in range(len(bs))])\n",
    "\n",
    "    state = evecs[0]\n",
    "    ChDist = np.array([np.sum((np.abs(state)[np.where(chrgs==r)[0]])**2) for r in range(-N*Ncut,N*Ncut+1)])\n",
    "    plt.plot(np.unique(chrgs),ChDist,'r.-')\n",
    "\n",
    "    state = evecs[1]\n",
    "    ChDist = np.array([np.sum((np.abs(state)[np.where(chrgs==r)[0]])**2) for r in range(-N*Ncut,N*Ncut+1)])\n",
    "    plt.plot(np.unique(chrgs),ChDist,'.-')\n",
    "\n",
    "    plt.grid()\n",
    "    # plt.show()"
   ]
  },
  {
   "cell_type": "code",
   "execution_count": 69,
   "id": "883a7430-7254-4171-ba4a-3c74ca800eb2",
   "metadata": {},
   "outputs": [
    {
     "data": {
      "image/png": "[encoded data removed]",
      "text/plain": [
       "<Figure size 640x480 with 4 Axes>"
      ]
     },
     "metadata": {},
     "output_type": "display_data"
    }
   ],
   "source": [
    "fig, ax = plt.subplots(1,N)\n",
    "\n",
    "[ax[r].plot(ph_list,np.array(scan[r])) for r in range(N)];\n",
    "[ax[r].set_ylim([0,35]) for r in range(N)]\n",
    "# [ax[r].set_xticks([]) for r in range(N)]\n",
    "\n",
    "fig.tight_layout()"
   ]
  },
  {
   "cell_type": "code",
   "execution_count": 70,
   "id": "1badd675-ce02-4b8e-8f13-aae213f32c3b",
   "metadata": {},
   "outputs": [
    {
     "data": {
      "image/png": "[encoded data removed]",
      "text/plain": [
       "<Figure size 640x480 with 1 Axes>"
      ]
     },
     "metadata": {},
     "output_type": "display_data"
    }
   ],
   "source": [
    "bs = jja.cartesian([np.arange(-Ncut,Ncut+1) for r in range(N)])\n",
    "chrgs = np.array([np.sum(bs[r]) for r in range(len(bs))])\n",
    "\n",
    "state = evecs[0]\n",
    "ChDist = np.array([np.sum((np.abs(state)[np.where(chrgs==r)[0]])**2) for r in range(-N*Ncut,N*Ncut+1)])\n",
    "plt.plot(np.unique(chrgs),ChDist,'r.-')\n",
    "\n",
    "state = evecs[1]\n",
    "ChDist = np.array([np.sum((np.abs(state)[np.where(chrgs==r)[0]])**2) for r in range(-N*Ncut,N*Ncut+1)])\n",
    "plt.plot(np.unique(chrgs),ChDist,'.-')\n",
    "\n",
    "plt.grid()"
   ]
  },
  {
   "cell_type": "code",
   "execution_count": 18,
   "id": "70fadcc7-e03b-4d9e-92fe-170d66d1d2e5",
   "metadata": {},
   "outputs": [
    {
     "data": {
      "text/latex": [
       "Quantum object: dims = [[7, 7, 7], [1, 1, 1]], shape = (343, 1), type = ket\\begin{equation*}\\left(\\begin{array}{*{11}c}(0.003-0.003j)\\\\(4.049\\times10^{-05}-3.740\\times10^{-05}j)\\\\(1.148\\times10^{-07}-1.060\\times10^{-07}j)\\\\(1.286\\times10^{-10}-1.188\\times10^{-10}j)\\\\0.0\\\\\\vdots\\\\0.0\\\\(1.286\\times10^{-10}-1.188\\times10^{-10}j)\\\\(1.148\\times10^{-07}-1.060\\times10^{-07}j)\\\\(4.049\\times10^{-05}-3.740\\times10^{-05}j)\\\\(0.003-0.003j)\\\\\\end{array}\\right)\\end{equation*}"
      ],
      "text/plain": [
       "Quantum object: dims = [[7, 7, 7], [1, 1, 1]], shape = (343, 1), type = ket\n",
       "Qobj data =\n",
       "[[2.81177574e-03-2.59687402e-03j]\n",
       " [4.04924846e-05-3.73976771e-05j]\n",
       " [1.14751365e-07-1.05981012e-07j]\n",
       " [1.28611571e-10-1.18781905e-10j]\n",
       " [0.00000000e+00+0.00000000e+00j]\n",
       " [0.00000000e+00+0.00000000e+00j]\n",
       " [0.00000000e+00+0.00000000e+00j]\n",
       " [4.04924846e-05-3.73976771e-05j]\n",
       " [1.82671212e-04-1.68709801e-04j]\n",
       " [1.55541600e-06-1.43653683e-06j]\n",
       " [3.16145489e-09-2.91982747e-09j]\n",
       " [2.75375234e-12-2.54329861e-12j]\n",
       " [0.00000000e+00+0.00000000e+00j]\n",
       " [0.00000000e+00+0.00000000e+00j]\n",
       " [1.14751365e-07-1.05981012e-07j]\n",
       " [1.55541600e-06-1.43653683e-06j]\n",
       " [2.15776504e-06-1.99284882e-06j]\n",
       " [1.20045413e-08-1.10870440e-08j]\n",
       " [1.82738323e-11-1.68771718e-11j]\n",
       " [0.00000000e+00+0.00000000e+00j]\n",
       " [0.00000000e+00+0.00000000e+00j]\n",
       " [1.28611571e-10-1.18781905e-10j]\n",
       " [3.16145488e-09-2.91982748e-09j]\n",
       " [1.20045413e-08-1.10870440e-08j]\n",
       " [5.54375253e-09-5.12004807e-09j]\n",
       " [2.01786195e-11-1.86363808e-11j]\n",
       " [0.00000000e+00+0.00000000e+00j]\n",
       " [0.00000000e+00+0.00000000e+00j]\n",
       " [0.00000000e+00+0.00000000e+00j]\n",
       " [2.75375590e-12-2.54333343e-12j]\n",
       " [1.82738275e-11-1.68771677e-11j]\n",
       " [2.01786048e-11-1.86363954e-11j]\n",
       " [2.23784083e-12-2.06683847e-12j]\n",
       " [0.00000000e+00+0.00000000e+00j]\n",
       " [0.00000000e+00+0.00000000e+00j]\n",
       " [0.00000000e+00+0.00000000e+00j]\n",
       " [0.00000000e+00+0.00000000e+00j]\n",
       " [0.00000000e+00+0.00000000e+00j]\n",
       " [0.00000000e+00+0.00000000e+00j]\n",
       " [0.00000000e+00+0.00000000e+00j]\n",
       " [0.00000000e+00+0.00000000e+00j]\n",
       " [0.00000000e+00+0.00000000e+00j]\n",
       " [0.00000000e+00+0.00000000e+00j]\n",
       " [0.00000000e+00+0.00000000e+00j]\n",
       " [0.00000000e+00+0.00000000e+00j]\n",
       " [0.00000000e+00+0.00000000e+00j]\n",
       " [0.00000000e+00+0.00000000e+00j]\n",
       " [0.00000000e+00+0.00000000e+00j]\n",
       " [0.00000000e+00+0.00000000e+00j]\n",
       " [4.04924846e-05-3.73976771e-05j]\n",
       " [1.82671212e-04-1.68709801e-04j]\n",
       " [1.55541600e-06-1.43653683e-06j]\n",
       " [3.16145488e-09-2.91982748e-09j]\n",
       " [2.75375590e-12-2.54333343e-12j]\n",
       " [0.00000000e+00+0.00000000e+00j]\n",
       " [0.00000000e+00+0.00000000e+00j]\n",
       " [1.82671212e-04-1.68709801e-04j]\n",
       " [4.04644689e-02-3.73718026e-02j]\n",
       " [4.90236725e-04-4.52768333e-04j]\n",
       " [1.21541035e-06-1.12251753e-06j]\n",
       " [1.21892268e-09-1.12576143e-09j]\n",
       " [0.00000000e+00+0.00000000e+00j]\n",
       " [0.00000000e+00+0.00000000e+00j]\n",
       " [1.55541600e-06-1.43653683e-06j]\n",
       " [4.90236725e-04-4.52768333e-04j]\n",
       " [1.49274310e-03-1.37865397e-03j]\n",
       " [1.01889844e-05-9.41024870e-06j]\n",
       " [1.76684703e-08-1.63180836e-08j]\n",
       " [1.35429329e-11-1.25078551e-11j]\n",
       " [0.00000000e+00+0.00000000e+00j]\n",
       " [3.16145489e-09-2.91982747e-09j]\n",
       " [1.21541035e-06-1.12251753e-06j]\n",
       " [1.01889844e-05-9.41024870e-06j]\n",
       " [7.46364604e-06-6.89320568e-06j]\n",
       " [3.12018703e-08-2.88171369e-08j]\n",
       " [3.91235944e-11-3.61334038e-11j]\n",
       " [0.00000000e+00+0.00000000e+00j]\n",
       " [2.75375234e-12-2.54329861e-12j]\n",
       " [1.21892268e-09-1.12576143e-09j]\n",
       " [1.76684703e-08-1.63180836e-08j]\n",
       " [3.12018703e-08-2.88171368e-08j]\n",
       " [4.90598563e-09-4.53102517e-09j]\n",
       " [1.35429280e-11-1.25078522e-11j]\n",
       " [0.00000000e+00+0.00000000e+00j]\n",
       " [0.00000000e+00+0.00000000e+00j]\n",
       " [0.00000000e+00+0.00000000e+00j]\n",
       " [1.35429206e-11-1.25078448e-11j]\n",
       " [3.91236068e-11-3.61334182e-11j]\n",
       " [1.35429329e-11-1.25078553e-11j]\n",
       " [0.00000000e+00+0.00000000e+00j]\n",
       " [0.00000000e+00+0.00000000e+00j]\n",
       " [0.00000000e+00+0.00000000e+00j]\n",
       " [0.00000000e+00+0.00000000e+00j]\n",
       " [0.00000000e+00+0.00000000e+00j]\n",
       " [0.00000000e+00+0.00000000e+00j]\n",
       " [0.00000000e+00+0.00000000e+00j]\n",
       " [0.00000000e+00+0.00000000e+00j]\n",
       " [0.00000000e+00+0.00000000e+00j]\n",
       " [1.14751365e-07-1.05981012e-07j]\n",
       " [1.55541600e-06-1.43653683e-06j]\n",
       " [2.15776504e-06-1.99284882e-06j]\n",
       " [1.20045413e-08-1.10870440e-08j]\n",
       " [1.82738275e-11-1.68771677e-11j]\n",
       " [0.00000000e+00+0.00000000e+00j]\n",
       " [0.00000000e+00+0.00000000e+00j]\n",
       " [1.55541600e-06-1.43653683e-06j]\n",
       " [4.90236725e-04-4.52768333e-04j]\n",
       " [1.49274310e-03-1.37865397e-03j]\n",
       " [1.01889844e-05-9.41024870e-06j]\n",
       " [1.76684703e-08-1.63180836e-08j]\n",
       " [1.35429206e-11-1.25078448e-11j]\n",
       " [0.00000000e+00+0.00000000e+00j]\n",
       " [2.15776504e-06-1.99284882e-06j]\n",
       " [1.49274310e-03-1.37865397e-03j]\n",
       " [2.76029113e-01-2.54932434e-01j]\n",
       " [2.65831502e-03-2.45514217e-03j]\n",
       " [5.58585310e-06-5.15893091e-06j]\n",
       " [4.90598564e-09-4.53102520e-09j]\n",
       " [2.23784917e-12-2.06682382e-12j]\n",
       " [1.20045413e-08-1.10870440e-08j]\n",
       " [1.01889844e-05-9.41024870e-06j]\n",
       " [2.65831502e-03-2.45514217e-03j]\n",
       " [4.34876742e-03-4.01639468e-03j]\n",
       " [2.19698571e-05-2.02907189e-05j]\n",
       " [3.12018703e-08-2.88171368e-08j]\n",
       " [2.01786368e-11-1.86363750e-11j]\n",
       " [1.82738323e-11-1.68771718e-11j]\n",
       " [1.76684703e-08-1.63180836e-08j]\n",
       " [5.58585310e-06-5.15893091e-06j]\n",
       " [2.19698571e-05-2.02907189e-05j]\n",
       " [5.58585310e-06-5.15893091e-06j]\n",
       " [1.76684703e-08-1.63180836e-08j]\n",
       " [1.82738265e-11-1.68771787e-11j]\n",
       " [0.00000000e+00+0.00000000e+00j]\n",
       " [1.35429329e-11-1.25078551e-11j]\n",
       " [4.90598564e-09-4.53102520e-09j]\n",
       " [3.12018703e-08-2.88171368e-08j]\n",
       " [1.76684703e-08-1.63180835e-08j]\n",
       " [1.21892270e-09-1.12576142e-09j]\n",
       " [2.75373289e-12-2.54326038e-12j]\n",
       " [0.00000000e+00+0.00000000e+00j]\n",
       " [0.00000000e+00+0.00000000e+00j]\n",
       " [2.23784917e-12-2.06682382e-12j]\n",
       " [2.01786173e-11-1.86363918e-11j]\n",
       " [1.82738317e-11-1.68771675e-11j]\n",
       " [2.75376479e-12-2.54329182e-12j]\n",
       " [0.00000000e+00+0.00000000e+00j]\n",
       " [1.28611571e-10-1.18781905e-10j]\n",
       " [3.16145489e-09-2.91982747e-09j]\n",
       " [1.20045413e-08-1.10870440e-08j]\n",
       " [5.54375253e-09-5.12004807e-09j]\n",
       " [2.01786048e-11-1.86363954e-11j]\n",
       " [0.00000000e+00+0.00000000e+00j]\n",
       " [0.00000000e+00+0.00000000e+00j]\n",
       " [3.16145488e-09-2.91982748e-09j]\n",
       " [1.21541035e-06-1.12251753e-06j]\n",
       " [1.01889844e-05-9.41024870e-06j]\n",
       " [7.46364604e-06-6.89320568e-06j]\n",
       " [3.12018703e-08-2.88171368e-08j]\n",
       " [3.91236068e-11-3.61334182e-11j]\n",
       " [0.00000000e+00+0.00000000e+00j]\n",
       " [1.20045413e-08-1.10870440e-08j]\n",
       " [1.01889844e-05-9.41024870e-06j]\n",
       " [2.65831502e-03-2.45514217e-03j]\n",
       " [4.34876742e-03-4.01639468e-03j]\n",
       " [2.19698571e-05-2.02907189e-05j]\n",
       " [3.12018703e-08-2.88171368e-08j]\n",
       " [2.01786173e-11-1.86363918e-11j]\n",
       " [5.54375253e-09-5.12004807e-09j]\n",
       " [7.46364604e-06-6.89320568e-06j]\n",
       " [4.34876742e-03-4.01639468e-03j]\n",
       " [6.19535910e-01-5.72185287e-01j]\n",
       " [4.34876742e-03-4.01639468e-03j]\n",
       " [7.46364604e-06-6.89320568e-06j]\n",
       " [5.54375253e-09-5.12004807e-09j]\n",
       " [2.01786195e-11-1.86363808e-11j]\n",
       " [3.12018703e-08-2.88171369e-08j]\n",
       " [2.19698571e-05-2.02907189e-05j]\n",
       " [4.34876742e-03-4.01639468e-03j]\n",
       " [2.65831502e-03-2.45514217e-03j]\n",
       " [1.01889844e-05-9.41024870e-06j]\n",
       " [1.20045413e-08-1.10870440e-08j]\n",
       " [0.00000000e+00+0.00000000e+00j]\n",
       " [3.91235944e-11-3.61334038e-11j]\n",
       " [3.12018703e-08-2.88171368e-08j]\n",
       " [7.46364604e-06-6.89320568e-06j]\n",
       " [1.01889844e-05-9.41024870e-06j]\n",
       " [1.21541035e-06-1.12251753e-06j]\n",
       " [3.16145488e-09-2.91982748e-09j]\n",
       " [0.00000000e+00+0.00000000e+00j]\n",
       " [0.00000000e+00+0.00000000e+00j]\n",
       " [2.01786368e-11-1.86363750e-11j]\n",
       " [5.54375253e-09-5.12004807e-09j]\n",
       " [1.20045413e-08-1.10870440e-08j]\n",
       " [3.16145488e-09-2.91982747e-09j]\n",
       " [1.28611579e-10-1.18781898e-10j]\n",
       " [0.00000000e+00+0.00000000e+00j]\n",
       " [2.75375234e-12-2.54329861e-12j]\n",
       " [1.82738323e-11-1.68771718e-11j]\n",
       " [2.01786195e-11-1.86363808e-11j]\n",
       " [2.23784083e-12-2.06683847e-12j]\n",
       " [0.00000000e+00+0.00000000e+00j]\n",
       " [0.00000000e+00+0.00000000e+00j]\n",
       " [2.75375590e-12-2.54333343e-12j]\n",
       " [1.21892268e-09-1.12576143e-09j]\n",
       " [1.76684703e-08-1.63180836e-08j]\n",
       " [3.12018703e-08-2.88171369e-08j]\n",
       " [4.90598563e-09-4.53102517e-09j]\n",
       " [1.35429329e-11-1.25078553e-11j]\n",
       " [0.00000000e+00+0.00000000e+00j]\n",
       " [1.82738275e-11-1.68771677e-11j]\n",
       " [1.76684703e-08-1.63180836e-08j]\n",
       " [5.58585310e-06-5.15893091e-06j]\n",
       " [2.19698571e-05-2.02907189e-05j]\n",
       " [5.58585310e-06-5.15893091e-06j]\n",
       " [1.76684703e-08-1.63180835e-08j]\n",
       " [1.82738317e-11-1.68771675e-11j]\n",
       " [2.01786048e-11-1.86363954e-11j]\n",
       " [3.12018703e-08-2.88171368e-08j]\n",
       " [2.19698571e-05-2.02907189e-05j]\n",
       " [4.34876742e-03-4.01639468e-03j]\n",
       " [2.65831502e-03-2.45514217e-03j]\n",
       " [1.01889844e-05-9.41024870e-06j]\n",
       " [1.20045413e-08-1.10870440e-08j]\n",
       " [2.23784083e-12-2.06683847e-12j]\n",
       " [4.90598563e-09-4.53102517e-09j]\n",
       " [5.58585310e-06-5.15893091e-06j]\n",
       " [2.65831502e-03-2.45514217e-03j]\n",
       " [2.76029113e-01-2.54932434e-01j]\n",
       " [1.49274310e-03-1.37865397e-03j]\n",
       " [2.15776504e-06-1.99284882e-06j]\n",
       " [0.00000000e+00+0.00000000e+00j]\n",
       " [1.35429280e-11-1.25078522e-11j]\n",
       " [1.76684703e-08-1.63180836e-08j]\n",
       " [1.01889844e-05-9.41024870e-06j]\n",
       " [1.49274310e-03-1.37865397e-03j]\n",
       " [4.90236725e-04-4.52768333e-04j]\n",
       " [1.55541600e-06-1.43653683e-06j]\n",
       " [0.00000000e+00+0.00000000e+00j]\n",
       " [0.00000000e+00+0.00000000e+00j]\n",
       " [1.82738265e-11-1.68771787e-11j]\n",
       " [1.20045413e-08-1.10870440e-08j]\n",
       " [2.15776504e-06-1.99284882e-06j]\n",
       " [1.55541600e-06-1.43653683e-06j]\n",
       " [1.14751365e-07-1.05981012e-07j]\n",
       " [0.00000000e+00+0.00000000e+00j]\n",
       " [0.00000000e+00+0.00000000e+00j]\n",
       " [0.00000000e+00+0.00000000e+00j]\n",
       " [0.00000000e+00+0.00000000e+00j]\n",
       " [0.00000000e+00+0.00000000e+00j]\n",
       " [0.00000000e+00+0.00000000e+00j]\n",
       " [0.00000000e+00+0.00000000e+00j]\n",
       " [0.00000000e+00+0.00000000e+00j]\n",
       " [0.00000000e+00+0.00000000e+00j]\n",
       " [1.35429329e-11-1.25078551e-11j]\n",
       " [3.91235944e-11-3.61334038e-11j]\n",
       " [1.35429280e-11-1.25078522e-11j]\n",
       " [0.00000000e+00+0.00000000e+00j]\n",
       " [0.00000000e+00+0.00000000e+00j]\n",
       " [0.00000000e+00+0.00000000e+00j]\n",
       " [1.35429206e-11-1.25078448e-11j]\n",
       " [4.90598564e-09-4.53102520e-09j]\n",
       " [3.12018703e-08-2.88171368e-08j]\n",
       " [1.76684703e-08-1.63180836e-08j]\n",
       " [1.21892270e-09-1.12576142e-09j]\n",
       " [2.75376479e-12-2.54329182e-12j]\n",
       " [0.00000000e+00+0.00000000e+00j]\n",
       " [3.91236068e-11-3.61334182e-11j]\n",
       " [3.12018703e-08-2.88171368e-08j]\n",
       " [7.46364604e-06-6.89320568e-06j]\n",
       " [1.01889844e-05-9.41024870e-06j]\n",
       " [1.21541035e-06-1.12251753e-06j]\n",
       " [3.16145488e-09-2.91982747e-09j]\n",
       " [0.00000000e+00+0.00000000e+00j]\n",
       " [1.35429329e-11-1.25078553e-11j]\n",
       " [1.76684703e-08-1.63180835e-08j]\n",
       " [1.01889844e-05-9.41024870e-06j]\n",
       " [1.49274310e-03-1.37865397e-03j]\n",
       " [4.90236725e-04-4.52768333e-04j]\n",
       " [1.55541600e-06-1.43653683e-06j]\n",
       " [0.00000000e+00+0.00000000e+00j]\n",
       " [0.00000000e+00+0.00000000e+00j]\n",
       " [1.21892270e-09-1.12576142e-09j]\n",
       " [1.21541035e-06-1.12251753e-06j]\n",
       " [4.90236725e-04-4.52768333e-04j]\n",
       " [4.04644689e-02-3.73718026e-02j]\n",
       " [1.82671212e-04-1.68709801e-04j]\n",
       " [0.00000000e+00+0.00000000e+00j]\n",
       " [0.00000000e+00+0.00000000e+00j]\n",
       " [2.75373289e-12-2.54326038e-12j]\n",
       " [3.16145488e-09-2.91982748e-09j]\n",
       " [1.55541600e-06-1.43653683e-06j]\n",
       " [1.82671212e-04-1.68709801e-04j]\n",
       " [4.04924846e-05-3.73976771e-05j]\n",
       " [0.00000000e+00+0.00000000e+00j]\n",
       " [0.00000000e+00+0.00000000e+00j]\n",
       " [0.00000000e+00+0.00000000e+00j]\n",
       " [0.00000000e+00+0.00000000e+00j]\n",
       " [0.00000000e+00+0.00000000e+00j]\n",
       " [0.00000000e+00+0.00000000e+00j]\n",
       " [0.00000000e+00+0.00000000e+00j]\n",
       " [0.00000000e+00+0.00000000e+00j]\n",
       " [0.00000000e+00+0.00000000e+00j]\n",
       " [0.00000000e+00+0.00000000e+00j]\n",
       " [0.00000000e+00+0.00000000e+00j]\n",
       " [0.00000000e+00+0.00000000e+00j]\n",
       " [0.00000000e+00+0.00000000e+00j]\n",
       " [0.00000000e+00+0.00000000e+00j]\n",
       " [0.00000000e+00+0.00000000e+00j]\n",
       " [0.00000000e+00+0.00000000e+00j]\n",
       " [2.23784917e-12-2.06682382e-12j]\n",
       " [2.01786368e-11-1.86363750e-11j]\n",
       " [1.82738265e-11-1.68771787e-11j]\n",
       " [2.75373289e-12-2.54326038e-12j]\n",
       " [0.00000000e+00+0.00000000e+00j]\n",
       " [0.00000000e+00+0.00000000e+00j]\n",
       " [0.00000000e+00+0.00000000e+00j]\n",
       " [2.01786173e-11-1.86363918e-11j]\n",
       " [5.54375253e-09-5.12004807e-09j]\n",
       " [1.20045413e-08-1.10870440e-08j]\n",
       " [3.16145488e-09-2.91982748e-09j]\n",
       " [1.28611579e-10-1.18781898e-10j]\n",
       " [0.00000000e+00+0.00000000e+00j]\n",
       " [0.00000000e+00+0.00000000e+00j]\n",
       " [1.82738317e-11-1.68771675e-11j]\n",
       " [1.20045413e-08-1.10870440e-08j]\n",
       " [2.15776504e-06-1.99284882e-06j]\n",
       " [1.55541600e-06-1.43653683e-06j]\n",
       " [1.14751365e-07-1.05981012e-07j]\n",
       " [0.00000000e+00+0.00000000e+00j]\n",
       " [0.00000000e+00+0.00000000e+00j]\n",
       " [2.75376479e-12-2.54329182e-12j]\n",
       " [3.16145488e-09-2.91982747e-09j]\n",
       " [1.55541600e-06-1.43653683e-06j]\n",
       " [1.82671212e-04-1.68709801e-04j]\n",
       " [4.04924846e-05-3.73976771e-05j]\n",
       " [0.00000000e+00+0.00000000e+00j]\n",
       " [0.00000000e+00+0.00000000e+00j]\n",
       " [0.00000000e+00+0.00000000e+00j]\n",
       " [1.28611579e-10-1.18781898e-10j]\n",
       " [1.14751365e-07-1.05981012e-07j]\n",
       " [4.04924846e-05-3.73976771e-05j]\n",
       " [2.81177574e-03-2.59687402e-03j]]"
      ]
     },
     "execution_count": 18,
     "metadata": {},
     "output_type": "execute_result"
    }
   ],
   "source": [
    "symmetric_data[0][1][0]"
   ]
  },
  {
   "cell_type": "code",
   "execution_count": 24,
   "id": "b94380dd-bd75-4435-978b-adf53eb83387",
   "metadata": {},
   "outputs": [],
   "source": [
    "def ME(Bra,OP,Ket):\n",
    "    \n",
    "    \n",
    "    \n",
    "    MatrixElement2 = np.abs((Bra.dag()*OP*Ket).full()[0,0])**2 #e^2, in SI\n",
    "\n",
    "    return MatrixElement2"
   ]
  },
  {
   "cell_type": "code",
   "execution_count": 34,
   "id": "c230eab3-d914-4379-8873-e6305643c24a",
   "metadata": {},
   "outputs": [],
   "source": [
    "Tp = qt.Qobj(np.diag(np.ones(2 * Ncut + 1 - 1), 1))\n",
    "Tm = Tp.dag()\n",
    "CosPhi = (Tp - Tm) / (2*1j)"
   ]
  },
  {
   "cell_type": "code",
   "execution_count": 35,
   "id": "123f3f35-3f6c-4ded-b36b-541feb4c4a72",
   "metadata": {},
   "outputs": [
    {
     "data": {
      "text/plain": [
       "0.0"
      ]
     },
     "execution_count": 35,
     "metadata": {},
     "output_type": "execute_result"
    }
   ],
   "source": [
    "ME(symmetric_data[0][1][0],jja.Op(CosPhi,N,0),symmetric_data[2][1][2])"
   ]
  },
  {
   "cell_type": "code",
   "execution_count": 33,
   "id": "812d417c-97b9-461e-8f73-4af1d2ad8e02",
   "metadata": {},
   "outputs": [
    {
     "data": {
      "text/plain": [
       "array([-4.45752331,  2.2094253 ,  2.25507882,  2.25507882,  2.35038947,\n",
       "        2.35038947,  2.39772538, 11.65443259, 11.65443259])"
      ]
     },
     "execution_count": 33,
     "metadata": {},
     "output_type": "execute_result"
    }
   ],
   "source": [
    "evals"
   ]
  },
  {
   "cell_type": "markdown",
   "id": "57900887-56bf-40fd-baef-96a841a2c131",
   "metadata": {},
   "source": [
    "## Check block-diagonal form of the Hamiltonian in the symmetric basis (use small N, Ncut for safety)"
   ]
  },
  {
   "cell_type": "code",
   "execution_count": 75,
   "id": "3b9c1ff5-3a51-4f76-94ac-12464db874c7",
   "metadata": {},
   "outputs": [
    {
     "data": {
      "application/vnd.jupyter.widget-view+json": {
       "model_id": "a7180d611d9d47ad80ab72d41a3ed124",
       "version_major": 2,
       "version_minor": 0
      },
      "text/plain": [
       "  0%|          | 0/4 [00:00<?, ?it/s]"
      ]
     },
     "metadata": {},
     "output_type": "display_data"
    }
   ],
   "source": [
    "H_V = bmat([[V[i].dag()*H*V[j] for j in range(N)] for i in tqdm(range(N))])"
   ]
  },
  {
   "cell_type": "code",
   "execution_count": 77,
   "id": "b6e87631-5ef6-43a3-82b6-de063774ce90",
   "metadata": {},
   "outputs": [
    {
     "data": {
      "text/plain": [
       "Text(0.5, 1.0, 'H in the symmetric basis')"
      ]
     },
     "execution_count": 77,
     "metadata": {},
     "output_type": "execute_result"
    },
    {
     "data": {
      "image/png": "[encoded data removed]",
      "text/plain": [
       "<Figure size 1300x1300 with 2 Axes>"
      ]
     },
     "metadata": {},
     "output_type": "display_data"
    }
   ],
   "source": [
    "fig, (ax1, ax2) = plt.subplots(ncols=2, figsize=(13,13))\n",
    "\n",
    "\n",
    "ax1.imshow(np.abs(H.full()))\n",
    "ax1.set_title('H in the full charge basis', size = 20)\n",
    "\n",
    "ax2.imshow(np.abs(H_V.toarray()))\n",
    "\n",
    "sm = V[0].shape[1]\n",
    "for i in range(1,N):\n",
    "    ax2.plot(np.arange(0,H.shape[0]),(sm-0.5)*np.ones(H.shape[0]),'b')\n",
    "    ax2.plot((sm-0.5)*np.ones(H.shape[0]),np.arange(0,H.shape[0]),'b')\n",
    "    sm = sm + V[i].shape[1]\n",
    "    \n",
    "ax2.set_title('H in the symmetric basis', size = 20)"
   ]
  },
  {
   "cell_type": "code",
   "execution_count": null,
   "id": "ab8d34ab-c5de-4753-bf1e-aee8e9645a89",
   "metadata": {},
   "outputs": [],
   "source": []
  }
 ],
 "metadata": {
  "kernelspec": {
   "display_name": "Python 3 (ipykernel)",
   "language": "python",
   "name": "python3"
  },
  "language_info": {
   "codemirror_mode": {
    "name": "ipython",
    "version": 3
   },
   "file_extension": ".py",
   "mimetype": "text/x-python",
   "name": "python",
   "nbconvert_exporter": "python",
   "pygments_lexer": "ipython3",
   "version": "3.8.13"
  }
 },
 "nbformat": 4,
 "nbformat_minor": 5
}
